{
 "cells": [
  {
   "cell_type": "code",
   "execution_count": 1,
   "metadata": {},
   "outputs": [],
   "source": [
    "import pandas as pd\n",
    "import os"
   ]
  },
  {
   "cell_type": "code",
   "execution_count": 2,
   "metadata": {},
   "outputs": [
    {
     "name": "stdout",
     "output_type": "stream",
     "text": [
      "142 payments were found in this file\n"
     ]
    }
   ],
   "source": [
    "def create_df():\n",
    "    csv_files = [f for f in os.listdir('inputs') if f.endswith(\".csv\")]\n",
    "    csv_file = str(csv_files[0])\n",
    "    df = pd.read_csv(f'inputs/{csv_file}')\n",
    "    payments = df.shape[0]+1\n",
    "    print(f'{payments} payments were found in this file')\n",
    "    return df\n",
    "df = create_df()"
   ]
  },
  {
   "cell_type": "code",
   "execution_count": 5,
   "metadata": {},
   "outputs": [],
   "source": [
    "def discover_amounts(df):\n",
    "    sections = ['Squirrels', 'Beavers', 'Cubs', 'Scouts']\n",
    "    payment_schedules = ['Activities', 'Monthly Subscriptions']\n",
    "\n",
    "    result_subsets = []  # List to store subsets\n",
    "\n",
    "    df = df.groupby(['resources.description'])[['gross_amount', 'gocardless_fees', 'app_fees', 'net_amount']].sum().reset_index()\n",
    "\n",
    "    for section in sections:\n",
    "        subset_section = df[df['resources.description'].str.contains(section, case=False)].copy()\n",
    "\n",
    "        for schedule in payment_schedules:\n",
    "            subset_schedule = subset_section[subset_section['resources.description'].str.contains(schedule, case=False)].copy()\n",
    "            subset_schedule['Section Payment Schedule'] = section + \": \" + schedule\n",
    "\n",
    "            result_subsets.append(subset_schedule)\n",
    "\n",
    "    # Concatenate all subsets into a new DataFrame\n",
    "    df = pd.concat(result_subsets, ignore_index=True)\n",
    "    \n",
    "    # Group so all sections payments for each schedule are together\n",
    "    df = df.groupby(['Section Payment Schedule'])[['gross_amount', 'gocardless_fees', 'app_fees', 'net_amount']].sum().reset_index()\n",
    "    \n",
    "    # Sort so it is easier to read\n",
    "    df = df.sort_values(by=['Section Payment Schedule'])\n",
    "\n",
    "    # Display the result DataFrame\n",
    "    return df"
   ]
  },
  {
   "cell_type": "code",
   "execution_count": 7,
   "metadata": {},
   "outputs": [
    {
     "name": "stdout",
     "output_type": "stream",
     "text": [
      "142 payments were found in this file\n"
     ]
    },
    {
     "data": {
      "text/html": [
       "<div>\n",
       "<style scoped>\n",
       "    .dataframe tbody tr th:only-of-type {\n",
       "        vertical-align: middle;\n",
       "    }\n",
       "\n",
       "    .dataframe tbody tr th {\n",
       "        vertical-align: top;\n",
       "    }\n",
       "\n",
       "    .dataframe thead th {\n",
       "        text-align: right;\n",
       "    }\n",
       "</style>\n",
       "<table border=\"1\" class=\"dataframe\">\n",
       "  <thead>\n",
       "    <tr style=\"text-align: right;\">\n",
       "      <th></th>\n",
       "      <th>Section Payment Schedule</th>\n",
       "      <th>gross_amount</th>\n",
       "      <th>gocardless_fees</th>\n",
       "      <th>app_fees</th>\n",
       "      <th>net_amount</th>\n",
       "    </tr>\n",
       "  </thead>\n",
       "  <tbody>\n",
       "    <tr>\n",
       "      <th>0</th>\n",
       "      <td>Beavers: Activities</td>\n",
       "      <td>30.0</td>\n",
       "      <td>0.46</td>\n",
       "      <td>0.59</td>\n",
       "      <td>28.95</td>\n",
       "    </tr>\n",
       "    <tr>\n",
       "      <th>1</th>\n",
       "      <td>Beavers: Monthly Subscriptions</td>\n",
       "      <td>288.0</td>\n",
       "      <td>6.96</td>\n",
       "      <td>5.52</td>\n",
       "      <td>275.52</td>\n",
       "    </tr>\n",
       "    <tr>\n",
       "      <th>2</th>\n",
       "      <td>Cubs: Activities</td>\n",
       "      <td>115.0</td>\n",
       "      <td>1.79</td>\n",
       "      <td>2.26</td>\n",
       "      <td>110.95</td>\n",
       "    </tr>\n",
       "    <tr>\n",
       "      <th>3</th>\n",
       "      <td>Cubs: Monthly Subscriptions</td>\n",
       "      <td>348.0</td>\n",
       "      <td>8.41</td>\n",
       "      <td>6.67</td>\n",
       "      <td>332.92</td>\n",
       "    </tr>\n",
       "    <tr>\n",
       "      <th>4</th>\n",
       "      <td>Scouts: Activities</td>\n",
       "      <td>1026.0</td>\n",
       "      <td>13.58</td>\n",
       "      <td>20.05</td>\n",
       "      <td>992.37</td>\n",
       "    </tr>\n",
       "    <tr>\n",
       "      <th>5</th>\n",
       "      <td>Scouts: Monthly Subscriptions</td>\n",
       "      <td>540.0</td>\n",
       "      <td>13.05</td>\n",
       "      <td>10.35</td>\n",
       "      <td>516.60</td>\n",
       "    </tr>\n",
       "    <tr>\n",
       "      <th>6</th>\n",
       "      <td>Squirrels: Monthly Subscriptions</td>\n",
       "      <td>180.0</td>\n",
       "      <td>4.35</td>\n",
       "      <td>3.45</td>\n",
       "      <td>172.20</td>\n",
       "    </tr>\n",
       "  </tbody>\n",
       "</table>\n",
       "</div>"
      ],
      "text/plain": [
       "           Section Payment Schedule  gross_amount  gocardless_fees  app_fees  \\\n",
       "0               Beavers: Activities          30.0             0.46      0.59   \n",
       "1    Beavers: Monthly Subscriptions         288.0             6.96      5.52   \n",
       "2                  Cubs: Activities         115.0             1.79      2.26   \n",
       "3       Cubs: Monthly Subscriptions         348.0             8.41      6.67   \n",
       "4                Scouts: Activities        1026.0            13.58     20.05   \n",
       "5     Scouts: Monthly Subscriptions         540.0            13.05     10.35   \n",
       "6  Squirrels: Monthly Subscriptions         180.0             4.35      3.45   \n",
       "\n",
       "   net_amount  \n",
       "0       28.95  \n",
       "1      275.52  \n",
       "2      110.95  \n",
       "3      332.92  \n",
       "4      992.37  \n",
       "5      516.60  \n",
       "6      172.20  "
      ]
     },
     "execution_count": 7,
     "metadata": {},
     "output_type": "execute_result"
    }
   ],
   "source": [
    "def main():\n",
    "    df = create_df()\n",
    "    df = discover_amounts(df)\n",
    "\n",
    "    return df\n",
    "main()"
   ]
  }
 ],
 "metadata": {
  "kernelspec": {
   "display_name": "Python 3",
   "language": "python",
   "name": "python3"
  },
  "language_info": {
   "codemirror_mode": {
    "name": "ipython",
    "version": 3
   },
   "file_extension": ".py",
   "mimetype": "text/x-python",
   "name": "python",
   "nbconvert_exporter": "python",
   "pygments_lexer": "ipython3",
   "version": "3.10.13"
  }
 },
 "nbformat": 4,
 "nbformat_minor": 2
}
